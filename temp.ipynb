{
 "cells": [
  {
   "cell_type": "code",
   "execution_count": 43,
   "id": "b09f9557",
   "metadata": {},
   "outputs": [
    {
     "name": "stdout",
     "output_type": "stream",
     "text": [
      "[[0 0 0 0]\n",
      " [1 1 1 1]\n",
      " [2 2 2 2]]\n",
      "3\n"
     ]
    }
   ],
   "source": [
    "import numpy as np\n",
    "\n",
    "wa = np.array([[0, 0, 0, 0]])\n",
    "\n",
    "wa = np.append(wa, [[1, 1, 1, 1]], axis = 0)\n",
    "wa = np.append(wa, [[2, 2, 2, 2]], axis = 0)\n",
    "\n",
    "print(wa)\n",
    "\n",
    "print(wa.shape[0])"
   ]
  },
  {
   "cell_type": "code",
   "execution_count": 28,
   "id": "b6245066",
   "metadata": {},
   "outputs": [],
   "source": [
    "def pos(string, percentage) :\n",
    "\t\n",
    "\tif string == 'width' :\n",
    "\t\tlength = globals()['width_size']\n",
    "\t\t\n",
    "\telif string == 'height' :\n",
    "\t\tlength = globals()['height_size']\n",
    "\t\t\n",
    "\telse :\n",
    "\t\tprint('wrong string argument, {}'.format(string))\n",
    "\t\n",
    "\treturn percentage * (1/1000) * length\n",
    "\t\t\n",
    "def width(percentage) :\n",
    "\texact_pos = pos('width', percentage)\n",
    "\treturn exact_pos\n",
    "\n",
    "def height(percentage) :\n",
    "\texact_pos = pos('height', percentage)\n",
    "\treturn exact_pos"
   ]
  },
  {
   "cell_type": "code",
   "execution_count": 37,
   "id": "2cc86757",
   "metadata": {},
   "outputs": [
    {
     "name": "stdout",
     "output_type": "stream",
     "text": [
      "width = 10000, height = 10000\n"
     ]
    }
   ],
   "source": [
    "from PIL import Image, ImageDraw\n",
    "import matplotlib.pyplot as plt\n",
    "import imodule as imd\n",
    "\n",
    "size = [pow(10, 4), pow(10, 4)]\n",
    "square = [200, 20, 800, 1000] # left x, left y, right x, right y\n",
    "name = 'temp'\n",
    "\n",
    "# (width, height) 크기의 빈 이미지와\n",
    "# 그 이미지 위에 도형을 그릴 수 있는 툴\n",
    "\n",
    "\n",
    "global width_size\n",
    "global height_size\n",
    "\n",
    "width_size = size[0]\n",
    "height_size = size[1]\n",
    "\n",
    "print('width = {}, height = {}'.format(width_size, height_size))\n",
    "\n",
    "image = Image.new(mode = 'P', size = (width_size, height_size), color = 'white')\n",
    "draw = ImageDraw.Draw(image)"
   ]
  },
  {
   "cell_type": "code",
   "execution_count": 40,
   "id": "39501633",
   "metadata": {},
   "outputs": [],
   "source": [
    "def working_area(square, width, height, horizontal_buffer, vertical_buffer, \\\n",
    "\t\t\t\twidth_interval, height_interval, visualize) :\n",
    "\tprint(square)    \n",
    "\tx0 = width(square[0])\n",
    "\ty0 = height(square[1])\n",
    "\tx1 = width(square[2])\n",
    "\ty1 = height(square[3])\n",
    "\t\n",
    "\tx0 += horizontal_buffer\n",
    "\tx1 += -1 * horizontal_buffer\n",
    "\ty0 += vertical_buffer\n",
    "\ty1 += -1 * vertical_buffer\n",
    "\t\n",
    "\tsquare = [x0, y0, x1, y1]\n",
    "\t\n",
    "\tif visualize == 1 :\n",
    "\t\tcolor = 'red'\n",
    "\telse :\n",
    "\t\tcolor = 'black'\n",
    "\t\t\n",
    "\t# adjust width_interval\n",
    "\t\n",
    "\tprint('original width, width_interval = {}, {}'.format(width, width_interval))\n",
    "\t\n",
    "\tbox_num_x = ((x1 - x0 + width_interval) / (width + width_interval)) // 1\n",
    "\tif box_num != 1 :\n",
    "\t\twidth_interval = (x1 - x0 - box_num_x * width) / (box_num_x - 1)\n",
    "\telse :\n",
    "\t\tprint('error : box number(x) must be bigger than 1')\n",
    "\t\n",
    "\tbox_num_y = ((y1 - y0 + height_interval) / (height + height_interval)) // 1\n",
    "\tif box_num_y != 1 :\n",
    "\t\theight_interval = (y1 - y0 - box_num_y * height) / (box_num_y - 1)\n",
    "\telse :\n",
    "\t\tprint('error : box number(y) must be bigger than 1')\n",
    "\t\n",
    "\tprint('adjusted width, width_interval = {}, {}'.format(width, width_interval))\n",
    "\t\n",
    "\t# make workboxes\n",
    "\tbox_left_x = [x0]\n",
    "\tbox_left_y = [y0]\n",
    "\t\n",
    "\tx = x0\n",
    "\ty = y0\n",
    "\t\n",
    "\twhile x < x1 :\n",
    "\t\tx += width + width_interval\n",
    "\t\tbox_left_x.append(x)\n",
    "\t\t\n",
    "\twhile y < y1 :\n",
    "\t\ty += height + height_interval\n",
    "\t\tbox_left_y.append(y)\n",
    "\t\t\n",
    "\tbox_xy = np.array([[0, 0, 0, 0]])\n",
    "\t\n",
    "\tfor i in range(len(box_left_x)) :\n",
    "\t\tfor j in range(len(box_left_y)) :\n",
    "\t\t\txx0 = box_left_x[i]\n",
    "\t\t\tyy0 = box_left_y[j]\n",
    "\t\t\txx1 = xx0 + width\n",
    "\t\t\tyy1 = yy0 + height\n",
    "\t\t\t\n",
    "\t\t\tbox_xy = np.append(box_xy, [[xx0, yy0, xx1, yy1]], axis = 1)\n",
    "\t\t\n",
    "\tbox_xy = box_xy[1 :]\n",
    "\n",
    "\tfor i in range(box_xy.shape[0]) :\n",
    "\t\tprint(box_xy[i])\n",
    "\treturn box_xy"
   ]
  },
  {
   "cell_type": "code",
   "execution_count": 41,
   "id": "e2c84119",
   "metadata": {},
   "outputs": [
    {
     "name": "stdout",
     "output_type": "stream",
     "text": [
      "[200, 20, 800, 1000]\n"
     ]
    },
    {
     "ename": "TypeError",
     "evalue": "'int' object is not callable",
     "output_type": "error",
     "traceback": [
      "\u001b[1;31m---------------------------------------------------------------------------\u001b[0m",
      "\u001b[1;31mTypeError\u001b[0m                                 Traceback (most recent call last)",
      "\u001b[1;32m~\\AppData\\Local\\Temp/ipykernel_21672/892758534.py\u001b[0m in \u001b[0;36m<module>\u001b[1;34m\u001b[0m\n\u001b[1;32m----> 1\u001b[1;33m \u001b[0mbox\u001b[0m \u001b[1;33m=\u001b[0m \u001b[0mworking_area\u001b[0m\u001b[1;33m(\u001b[0m\u001b[0msquare\u001b[0m\u001b[1;33m,\u001b[0m \u001b[1;36m30\u001b[0m\u001b[1;33m,\u001b[0m \u001b[1;36m50\u001b[0m\u001b[1;33m,\u001b[0m \u001b[1;36m100\u001b[0m\u001b[1;33m,\u001b[0m \u001b[1;36m100\u001b[0m\u001b[1;33m,\u001b[0m \u001b[1;36m10\u001b[0m\u001b[1;33m,\u001b[0m \u001b[1;36m15\u001b[0m\u001b[1;33m,\u001b[0m \u001b[1;36m1\u001b[0m\u001b[1;33m)\u001b[0m\u001b[1;33m\u001b[0m\u001b[1;33m\u001b[0m\u001b[0m\n\u001b[0m",
      "\u001b[1;32m~\\AppData\\Local\\Temp/ipykernel_21672/4205831273.py\u001b[0m in \u001b[0;36mworking_area\u001b[1;34m(square, width, height, horizontal_buffer, vertical_buffer, width_interval, height_interval, visualize)\u001b[0m\n\u001b[0;32m      2\u001b[0m \t\t\t\twidth_interval, height_interval, visualize) :\n\u001b[0;32m      3\u001b[0m         \u001b[0mprint\u001b[0m\u001b[1;33m(\u001b[0m\u001b[0msquare\u001b[0m\u001b[1;33m)\u001b[0m\u001b[1;33m\u001b[0m\u001b[1;33m\u001b[0m\u001b[0m\n\u001b[1;32m----> 4\u001b[1;33m         \u001b[0mx0\u001b[0m \u001b[1;33m=\u001b[0m \u001b[0mwidth\u001b[0m\u001b[1;33m(\u001b[0m\u001b[0msquare\u001b[0m\u001b[1;33m[\u001b[0m\u001b[1;36m0\u001b[0m\u001b[1;33m]\u001b[0m\u001b[1;33m)\u001b[0m\u001b[1;33m\u001b[0m\u001b[1;33m\u001b[0m\u001b[0m\n\u001b[0m\u001b[0;32m      5\u001b[0m         \u001b[0my0\u001b[0m \u001b[1;33m=\u001b[0m \u001b[0mheight\u001b[0m\u001b[1;33m(\u001b[0m\u001b[0msquare\u001b[0m\u001b[1;33m[\u001b[0m\u001b[1;36m1\u001b[0m\u001b[1;33m]\u001b[0m\u001b[1;33m)\u001b[0m\u001b[1;33m\u001b[0m\u001b[1;33m\u001b[0m\u001b[0m\n\u001b[0;32m      6\u001b[0m         \u001b[0mx1\u001b[0m \u001b[1;33m=\u001b[0m \u001b[0mwidth\u001b[0m\u001b[1;33m(\u001b[0m\u001b[0msquare\u001b[0m\u001b[1;33m[\u001b[0m\u001b[1;36m2\u001b[0m\u001b[1;33m]\u001b[0m\u001b[1;33m)\u001b[0m\u001b[1;33m\u001b[0m\u001b[1;33m\u001b[0m\u001b[0m\n",
      "\u001b[1;31mTypeError\u001b[0m: 'int' object is not callable"
     ]
    }
   ],
   "source": [
    "box = working_area(square, 30, 50, 100, 100, 10, 15, 1)"
   ]
  },
  {
   "cell_type": "code",
   "execution_count": null,
   "id": "0c0da19e",
   "metadata": {},
   "outputs": [],
   "source": []
  }
 ],
 "metadata": {
  "kernelspec": {
   "display_name": "Python 3 (ipykernel)",
   "language": "python",
   "name": "python3"
  },
  "language_info": {
   "codemirror_mode": {
    "name": "ipython",
    "version": 3
   },
   "file_extension": ".py",
   "mimetype": "text/x-python",
   "name": "python",
   "nbconvert_exporter": "python",
   "pygments_lexer": "ipython3",
   "version": "3.9.6"
  }
 },
 "nbformat": 4,
 "nbformat_minor": 5
}
